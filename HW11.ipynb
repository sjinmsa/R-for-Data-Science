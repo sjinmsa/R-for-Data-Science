{
 "cells": [
  {
   "cell_type": "markdown",
   "metadata": {},
   "source": [
    "Question 15.2\n",
    "\n",
    "In the videos, we saw the “diet problem”. (The diet problem is one of the first large-scale optimization\n",
    "problems to be studied in practice. Back in the 1930’s and 40’s, the Army wanted to meet the nutritional\n",
    "requirements of its soldiers while minimizing the cost.) In this homework you get to solve a diet problem with real data. The data is given in the file diet.xls. "
   ]
  },
  {
   "cell_type": "markdown",
   "metadata": {},
   "source": [
    "1.\tFormulate an optimization model (a linear program) to find the cheapest diet that satisfies the maximum and minimum daily nutrition constraints, and solve it using PuLP.  Turn in your code and the solution. (The optimal solution should be a diet of air-popped popcorn, poached eggs, oranges, raw iceberg lettuce, raw celery, and frozen broccoli. UGH!)"
   ]
  },
  {
   "cell_type": "code",
   "execution_count": 1,
   "metadata": {},
   "outputs": [],
   "source": [
    "#! pip install pulp"
   ]
  },
  {
   "cell_type": "code",
   "execution_count": 2,
   "metadata": {
    "scrolled": true
   },
   "outputs": [],
   "source": [
    "from pulp import *"
   ]
  },
  {
   "cell_type": "code",
   "execution_count": 3,
   "metadata": {},
   "outputs": [],
   "source": [
    "import pandas as pd"
   ]
  },
  {
   "cell_type": "code",
   "execution_count": 4,
   "metadata": {},
   "outputs": [],
   "source": [
    "df = pd.read_csv('diet.csv')\n",
    "#df.head()\n",
    "df.tail()\n",
    "#Notice the last row of the data set was actually row 63.(WhicH we could also see that when open the excel when first download the data)\n",
    "#then to only extrac the data, only need until row 63.\n",
    "food=df[0:64]"
   ]
  },
  {
   "cell_type": "code",
   "execution_count": 5,
   "metadata": {},
   "outputs": [
    {
     "data": {
      "text/html": [
       "<div>\n",
       "<style scoped>\n",
       "    .dataframe tbody tr th:only-of-type {\n",
       "        vertical-align: middle;\n",
       "    }\n",
       "\n",
       "    .dataframe tbody tr th {\n",
       "        vertical-align: top;\n",
       "    }\n",
       "\n",
       "    .dataframe thead th {\n",
       "        text-align: right;\n",
       "    }\n",
       "</style>\n",
       "<table border=\"1\" class=\"dataframe\">\n",
       "  <thead>\n",
       "    <tr style=\"text-align: right;\">\n",
       "      <th></th>\n",
       "      <th>Foods</th>\n",
       "      <th>Price/ Serving</th>\n",
       "      <th>Serving Size</th>\n",
       "      <th>Calories</th>\n",
       "      <th>Cholesterol mg</th>\n",
       "      <th>Total_Fat g</th>\n",
       "      <th>Sodium mg</th>\n",
       "      <th>Carbohydrates g</th>\n",
       "      <th>Dietary_Fiber g</th>\n",
       "      <th>Protein g</th>\n",
       "      <th>Vit_A IU</th>\n",
       "      <th>Vit_C IU</th>\n",
       "      <th>Calcium mg</th>\n",
       "      <th>Iron mg</th>\n",
       "    </tr>\n",
       "  </thead>\n",
       "  <tbody>\n",
       "    <tr>\n",
       "      <th>0</th>\n",
       "      <td>Frozen Broccoli</td>\n",
       "      <td>$0.16</td>\n",
       "      <td>10 Oz Pkg</td>\n",
       "      <td>73.8</td>\n",
       "      <td>0.0</td>\n",
       "      <td>0.8</td>\n",
       "      <td>68.2</td>\n",
       "      <td>13.6</td>\n",
       "      <td>8.5</td>\n",
       "      <td>8.0</td>\n",
       "      <td>5867.4</td>\n",
       "      <td>160.2</td>\n",
       "      <td>159.0</td>\n",
       "      <td>2.3</td>\n",
       "    </tr>\n",
       "    <tr>\n",
       "      <th>1</th>\n",
       "      <td>Carrots,Raw</td>\n",
       "      <td>$0.07</td>\n",
       "      <td>1/2 Cup Shredded</td>\n",
       "      <td>23.7</td>\n",
       "      <td>0.0</td>\n",
       "      <td>0.1</td>\n",
       "      <td>19.2</td>\n",
       "      <td>5.6</td>\n",
       "      <td>1.6</td>\n",
       "      <td>0.6</td>\n",
       "      <td>15471.0</td>\n",
       "      <td>5.1</td>\n",
       "      <td>14.9</td>\n",
       "      <td>0.3</td>\n",
       "    </tr>\n",
       "    <tr>\n",
       "      <th>2</th>\n",
       "      <td>Celery, Raw</td>\n",
       "      <td>$0.04</td>\n",
       "      <td>1 Stalk</td>\n",
       "      <td>6.4</td>\n",
       "      <td>0.0</td>\n",
       "      <td>0.1</td>\n",
       "      <td>34.8</td>\n",
       "      <td>1.5</td>\n",
       "      <td>0.7</td>\n",
       "      <td>0.3</td>\n",
       "      <td>53.6</td>\n",
       "      <td>2.8</td>\n",
       "      <td>16.0</td>\n",
       "      <td>0.2</td>\n",
       "    </tr>\n",
       "    <tr>\n",
       "      <th>3</th>\n",
       "      <td>Frozen Corn</td>\n",
       "      <td>$0.18</td>\n",
       "      <td>1/2 Cup</td>\n",
       "      <td>72.2</td>\n",
       "      <td>0.0</td>\n",
       "      <td>0.6</td>\n",
       "      <td>2.5</td>\n",
       "      <td>17.1</td>\n",
       "      <td>2.0</td>\n",
       "      <td>2.5</td>\n",
       "      <td>106.6</td>\n",
       "      <td>5.2</td>\n",
       "      <td>3.3</td>\n",
       "      <td>0.3</td>\n",
       "    </tr>\n",
       "    <tr>\n",
       "      <th>4</th>\n",
       "      <td>Lettuce,Iceberg,Raw</td>\n",
       "      <td>$0.02</td>\n",
       "      <td>1 Leaf</td>\n",
       "      <td>2.6</td>\n",
       "      <td>0.0</td>\n",
       "      <td>0.0</td>\n",
       "      <td>1.8</td>\n",
       "      <td>0.4</td>\n",
       "      <td>0.3</td>\n",
       "      <td>0.2</td>\n",
       "      <td>66.0</td>\n",
       "      <td>0.8</td>\n",
       "      <td>3.8</td>\n",
       "      <td>0.1</td>\n",
       "    </tr>\n",
       "  </tbody>\n",
       "</table>\n",
       "</div>"
      ],
      "text/plain": [
       "                 Foods Price/ Serving      Serving Size  Calories  \\\n",
       "0      Frozen Broccoli         $0.16          10 Oz Pkg      73.8   \n",
       "1          Carrots,Raw         $0.07   1/2 Cup Shredded      23.7   \n",
       "2          Celery, Raw         $0.04            1 Stalk       6.4   \n",
       "3          Frozen Corn         $0.18            1/2 Cup      72.2   \n",
       "4  Lettuce,Iceberg,Raw         $0.02             1 Leaf       2.6   \n",
       "\n",
       "   Cholesterol mg  Total_Fat g  Sodium mg  Carbohydrates g  Dietary_Fiber g  \\\n",
       "0             0.0          0.8       68.2             13.6              8.5   \n",
       "1             0.0          0.1       19.2              5.6              1.6   \n",
       "2             0.0          0.1       34.8              1.5              0.7   \n",
       "3             0.0          0.6        2.5             17.1              2.0   \n",
       "4             0.0          0.0        1.8              0.4              0.3   \n",
       "\n",
       "   Protein g  Vit_A IU  Vit_C IU  Calcium mg  Iron mg  \n",
       "0        8.0    5867.4     160.2       159.0      2.3  \n",
       "1        0.6   15471.0       5.1        14.9      0.3  \n",
       "2        0.3      53.6       2.8        16.0      0.2  \n",
       "3        2.5     106.6       5.2         3.3      0.3  \n",
       "4        0.2      66.0       0.8         3.8      0.1  "
      ]
     },
     "execution_count": 5,
     "metadata": {},
     "output_type": "execute_result"
    }
   ],
   "source": [
    "food.head()"
   ]
  },
  {
   "cell_type": "code",
   "execution_count": 6,
   "metadata": {
    "scrolled": false
   },
   "outputs": [],
   "source": [
    "#food.describe()"
   ]
  },
  {
   "cell_type": "code",
   "execution_count": 7,
   "metadata": {},
   "outputs": [
    {
     "name": "stderr",
     "output_type": "stream",
     "text": [
      "C:\\Users\\CHAOS\\Anaconda3\\lib\\site-packages\\ipykernel_launcher.py:1: SettingWithCopyWarning: \n",
      "A value is trying to be set on a copy of a slice from a DataFrame.\n",
      "Try using .loc[row_indexer,col_indexer] = value instead\n",
      "\n",
      "See the caveats in the documentation: http://pandas.pydata.org/pandas-docs/stable/indexing.html#indexing-view-versus-copy\n",
      "  \"\"\"Entry point for launching an IPython kernel.\n"
     ]
    }
   ],
   "source": [
    "food['Price/ Serving']=food['Price/ Serving'].astype(str)"
   ]
  },
  {
   "cell_type": "code",
   "execution_count": 8,
   "metadata": {
    "scrolled": false
   },
   "outputs": [
    {
     "name": "stderr",
     "output_type": "stream",
     "text": [
      "C:\\Users\\CHAOS\\Anaconda3\\lib\\site-packages\\ipykernel_launcher.py:2: SettingWithCopyWarning: \n",
      "A value is trying to be set on a copy of a slice from a DataFrame.\n",
      "Try using .loc[row_indexer,col_indexer] = value instead\n",
      "\n",
      "See the caveats in the documentation: http://pandas.pydata.org/pandas-docs/stable/indexing.html#indexing-view-versus-copy\n",
      "  \n"
     ]
    }
   ],
   "source": [
    "#since convert cost to float, we will be \n",
    "food['Price/ Serving'] = food['Price/ Serving'].str.replace('$', '')"
   ]
  },
  {
   "cell_type": "code",
   "execution_count": 9,
   "metadata": {},
   "outputs": [
    {
     "data": {
      "text/html": [
       "<div>\n",
       "<style scoped>\n",
       "    .dataframe tbody tr th:only-of-type {\n",
       "        vertical-align: middle;\n",
       "    }\n",
       "\n",
       "    .dataframe tbody tr th {\n",
       "        vertical-align: top;\n",
       "    }\n",
       "\n",
       "    .dataframe thead th {\n",
       "        text-align: right;\n",
       "    }\n",
       "</style>\n",
       "<table border=\"1\" class=\"dataframe\">\n",
       "  <thead>\n",
       "    <tr style=\"text-align: right;\">\n",
       "      <th></th>\n",
       "      <th>Foods</th>\n",
       "      <th>Price/ Serving</th>\n",
       "      <th>Serving Size</th>\n",
       "      <th>Calories</th>\n",
       "      <th>Cholesterol mg</th>\n",
       "      <th>Total_Fat g</th>\n",
       "      <th>Sodium mg</th>\n",
       "      <th>Carbohydrates g</th>\n",
       "      <th>Dietary_Fiber g</th>\n",
       "      <th>Protein g</th>\n",
       "      <th>Vit_A IU</th>\n",
       "      <th>Vit_C IU</th>\n",
       "      <th>Calcium mg</th>\n",
       "      <th>Iron mg</th>\n",
       "    </tr>\n",
       "  </thead>\n",
       "  <tbody>\n",
       "    <tr>\n",
       "      <th>0</th>\n",
       "      <td>Frozen Broccoli</td>\n",
       "      <td>0.16</td>\n",
       "      <td>10 Oz Pkg</td>\n",
       "      <td>73.8</td>\n",
       "      <td>0.0</td>\n",
       "      <td>0.8</td>\n",
       "      <td>68.2</td>\n",
       "      <td>13.6</td>\n",
       "      <td>8.5</td>\n",
       "      <td>8.0</td>\n",
       "      <td>5867.4</td>\n",
       "      <td>160.2</td>\n",
       "      <td>159.0</td>\n",
       "      <td>2.3</td>\n",
       "    </tr>\n",
       "    <tr>\n",
       "      <th>1</th>\n",
       "      <td>Carrots,Raw</td>\n",
       "      <td>0.07</td>\n",
       "      <td>1/2 Cup Shredded</td>\n",
       "      <td>23.7</td>\n",
       "      <td>0.0</td>\n",
       "      <td>0.1</td>\n",
       "      <td>19.2</td>\n",
       "      <td>5.6</td>\n",
       "      <td>1.6</td>\n",
       "      <td>0.6</td>\n",
       "      <td>15471.0</td>\n",
       "      <td>5.1</td>\n",
       "      <td>14.9</td>\n",
       "      <td>0.3</td>\n",
       "    </tr>\n",
       "    <tr>\n",
       "      <th>2</th>\n",
       "      <td>Celery, Raw</td>\n",
       "      <td>0.04</td>\n",
       "      <td>1 Stalk</td>\n",
       "      <td>6.4</td>\n",
       "      <td>0.0</td>\n",
       "      <td>0.1</td>\n",
       "      <td>34.8</td>\n",
       "      <td>1.5</td>\n",
       "      <td>0.7</td>\n",
       "      <td>0.3</td>\n",
       "      <td>53.6</td>\n",
       "      <td>2.8</td>\n",
       "      <td>16.0</td>\n",
       "      <td>0.2</td>\n",
       "    </tr>\n",
       "    <tr>\n",
       "      <th>3</th>\n",
       "      <td>Frozen Corn</td>\n",
       "      <td>0.18</td>\n",
       "      <td>1/2 Cup</td>\n",
       "      <td>72.2</td>\n",
       "      <td>0.0</td>\n",
       "      <td>0.6</td>\n",
       "      <td>2.5</td>\n",
       "      <td>17.1</td>\n",
       "      <td>2.0</td>\n",
       "      <td>2.5</td>\n",
       "      <td>106.6</td>\n",
       "      <td>5.2</td>\n",
       "      <td>3.3</td>\n",
       "      <td>0.3</td>\n",
       "    </tr>\n",
       "    <tr>\n",
       "      <th>4</th>\n",
       "      <td>Lettuce,Iceberg,Raw</td>\n",
       "      <td>0.02</td>\n",
       "      <td>1 Leaf</td>\n",
       "      <td>2.6</td>\n",
       "      <td>0.0</td>\n",
       "      <td>0.0</td>\n",
       "      <td>1.8</td>\n",
       "      <td>0.4</td>\n",
       "      <td>0.3</td>\n",
       "      <td>0.2</td>\n",
       "      <td>66.0</td>\n",
       "      <td>0.8</td>\n",
       "      <td>3.8</td>\n",
       "      <td>0.1</td>\n",
       "    </tr>\n",
       "  </tbody>\n",
       "</table>\n",
       "</div>"
      ],
      "text/plain": [
       "                 Foods Price/ Serving      Serving Size  Calories  \\\n",
       "0      Frozen Broccoli          0.16          10 Oz Pkg      73.8   \n",
       "1          Carrots,Raw          0.07   1/2 Cup Shredded      23.7   \n",
       "2          Celery, Raw          0.04            1 Stalk       6.4   \n",
       "3          Frozen Corn          0.18            1/2 Cup      72.2   \n",
       "4  Lettuce,Iceberg,Raw          0.02             1 Leaf       2.6   \n",
       "\n",
       "   Cholesterol mg  Total_Fat g  Sodium mg  Carbohydrates g  Dietary_Fiber g  \\\n",
       "0             0.0          0.8       68.2             13.6              8.5   \n",
       "1             0.0          0.1       19.2              5.6              1.6   \n",
       "2             0.0          0.1       34.8              1.5              0.7   \n",
       "3             0.0          0.6        2.5             17.1              2.0   \n",
       "4             0.0          0.0        1.8              0.4              0.3   \n",
       "\n",
       "   Protein g  Vit_A IU  Vit_C IU  Calcium mg  Iron mg  \n",
       "0        8.0    5867.4     160.2       159.0      2.3  \n",
       "1        0.6   15471.0       5.1        14.9      0.3  \n",
       "2        0.3      53.6       2.8        16.0      0.2  \n",
       "3        2.5     106.6       5.2         3.3      0.3  \n",
       "4        0.2      66.0       0.8         3.8      0.1  "
      ]
     },
     "execution_count": 9,
     "metadata": {},
     "output_type": "execute_result"
    }
   ],
   "source": [
    "food.head()"
   ]
  },
  {
   "cell_type": "code",
   "execution_count": 10,
   "metadata": {},
   "outputs": [],
   "source": [
    "foodlist=food.values.tolist()"
   ]
  },
  {
   "cell_type": "code",
   "execution_count": 11,
   "metadata": {},
   "outputs": [],
   "source": [
    "#food items\n",
    "item=[x[0] for x in foodlist]"
   ]
  },
  {
   "cell_type": "code",
   "execution_count": 12,
   "metadata": {},
   "outputs": [],
   "source": [
    "cost=dict([(x[0],float(x[1])) for x in foodlist])"
   ]
  },
  {
   "cell_type": "code",
   "execution_count": 13,
   "metadata": {},
   "outputs": [],
   "source": [
    "cal=dict([(x[0],float(x[3])) for x in foodlist])"
   ]
  },
  {
   "cell_type": "code",
   "execution_count": 14,
   "metadata": {},
   "outputs": [],
   "source": [
    "clt=dict([(x[0],float(x[4])) for x in foodlist])"
   ]
  },
  {
   "cell_type": "code",
   "execution_count": 15,
   "metadata": {},
   "outputs": [],
   "source": [
    "ttf=dict([(x[0],float(x[5])) for x in foodlist])"
   ]
  },
  {
   "cell_type": "code",
   "execution_count": 16,
   "metadata": {},
   "outputs": [],
   "source": [
    "sd=dict([(x[0],float(x[6])) for x in foodlist])"
   ]
  },
  {
   "cell_type": "code",
   "execution_count": 17,
   "metadata": {},
   "outputs": [],
   "source": [
    "carb=dict([(x[0],float(x[7])) for x in foodlist])"
   ]
  },
  {
   "cell_type": "code",
   "execution_count": 18,
   "metadata": {},
   "outputs": [],
   "source": [
    "fiber=dict([(x[0],float(x[8])) for x in foodlist])"
   ]
  },
  {
   "cell_type": "code",
   "execution_count": 19,
   "metadata": {},
   "outputs": [],
   "source": [
    "po =dict([(x[0],float(x[9])) for x in foodlist])"
   ]
  },
  {
   "cell_type": "code",
   "execution_count": 20,
   "metadata": {},
   "outputs": [],
   "source": [
    "va=dict([(x[0],float(x[10])) for x in foodlist])"
   ]
  },
  {
   "cell_type": "code",
   "execution_count": 21,
   "metadata": {},
   "outputs": [],
   "source": [
    "vc=dict([(x[0],float(x[11])) for x in foodlist])"
   ]
  },
  {
   "cell_type": "code",
   "execution_count": 22,
   "metadata": {},
   "outputs": [],
   "source": [
    "cci=dict([(x[0],float(x[12])) for x in foodlist])"
   ]
  },
  {
   "cell_type": "code",
   "execution_count": 23,
   "metadata": {},
   "outputs": [],
   "source": [
    "iron=dict([(x[0],float(x[13])) for x in foodlist])"
   ]
  },
  {
   "cell_type": "code",
   "execution_count": 24,
   "metadata": {},
   "outputs": [],
   "source": [
    "#defined a problem name\n",
    "#Minimizing cost\n",
    "problem = LpProblem('mealplan', LpMinimize)"
   ]
  },
  {
   "cell_type": "code",
   "execution_count": 25,
   "metadata": {},
   "outputs": [],
   "source": [
    "#define variable\n",
    "amountVars = LpVariable.dicts('Amount',item, 0)"
   ]
  },
  {
   "cell_type": "code",
   "execution_count": 26,
   "metadata": {},
   "outputs": [],
   "source": [
    "#Add  objective function to the problem\n",
    "problem += lpSum([cost[i]* amountVars[i] for i in item]), 'total cost'"
   ]
  },
  {
   "cell_type": "code",
   "execution_count": 27,
   "metadata": {},
   "outputs": [],
   "source": [
    "#constraints hard code on each ones\n",
    "#calories\n",
    "problem += lpSum([cal[i]* amountVars[i] for i in item])>=1500, 'min cal'\n",
    "problem += lpSum([cal[i]* amountVars[i] for i in item])<=2500, 'max cal'\n",
    "#cholesterol\n",
    "problem += lpSum([clt[i]* amountVars[i] for i in item])>=30, 'min cholesterol'\n",
    "problem += lpSum([clt[i]* amountVars[i] for i in item])<=240, 'max cholesterol'\n",
    "\n",
    "#fat\n",
    "problem += lpSum([ttf[i]* amountVars[i] for i in item])>=20, 'min fat'\n",
    "problem += lpSum([ttf[i]* amountVars[i] for i in item])<=70, 'max fat'\n",
    "\n",
    "#sodium\n",
    "problem += lpSum([sd[i]* amountVars[i] for i in item])>=800, 'min sodium'\n",
    "problem += lpSum([sd[i]* amountVars[i] for i in item])<=2000, 'max sodium'\n",
    "#carb\n",
    "problem += lpSum([carb[i]* amountVars[i] for i in item])>=130, 'min carb'\n",
    "problem += lpSum([carb[i]* amountVars[i] for i in item])<=450, 'max carb'\n",
    "\n",
    "#fiber\n",
    "problem += lpSum([fiber[i]* amountVars[i] for i in item])>=125, 'min fiber'\n",
    "problem += lpSum([fiber[i]* amountVars[i] for i in item])<=250, 'max fiber'\n",
    "\n",
    "#protein\n",
    "problem += lpSum([po[i]* amountVars[i] for i in item])>=60, 'min protein'\n",
    "problem += lpSum([po[i]* amountVars[i] for i in item])<=100, 'max protein'\n",
    "\n",
    "#va\n",
    "problem += lpSum([va[i]* amountVars[i] for i in item])>=1000, 'min vitaminA'\n",
    "problem += lpSum([va[i]* amountVars[i] for i in item])<=10000, 'max vitaminA'\n",
    "\n",
    "#vc\n",
    "problem += lpSum([vc[i]* amountVars[i] for i in item])>=400, 'min vitaminC'\n",
    "problem += lpSum([vc[i]* amountVars[i] for i in item])<=5000, 'max vitaminC'\n",
    "\n",
    "#cci\n",
    "problem += lpSum([cci[i]* amountVars[i] for i in item])>=700, 'min calcium'\n",
    "problem += lpSum([cci[i]* amountVars[i] for i in item])<=1500, 'max calcium'\n",
    "\n",
    "#iron\n",
    "problem += lpSum([iron[i]* amountVars[i] for i in item])>=10, 'min iron'\n",
    "problem += lpSum([iron[i]* amountVars[i] for i in item])<=40, 'max iron'"
   ]
  },
  {
   "cell_type": "code",
   "execution_count": 28,
   "metadata": {},
   "outputs": [
    {
     "data": {
      "text/plain": [
       "1"
      ]
     },
     "execution_count": 28,
     "metadata": {},
     "output_type": "execute_result"
    }
   ],
   "source": [
    "problem.solve()"
   ]
  },
  {
   "cell_type": "code",
   "execution_count": 29,
   "metadata": {},
   "outputs": [
    {
     "name": "stdout",
     "output_type": "stream",
     "text": [
      "{'Amount_Celery,_Raw': 52.64371, 'Amount_Frozen_Broccoli': 0.25960653, 'Amount_Lettuce,Iceberg,Raw': 63.988506, 'Amount_Oranges': 2.2929389, 'Amount_Poached_Eggs': 0.14184397, 'Amount_Popcorn,Air_Popped': 13.869322}\n"
     ]
    }
   ],
   "source": [
    "varsDictionary = {}\n",
    "for v in problem.variables():\n",
    "    if v.varValue >0.0:\n",
    "        \n",
    "        varsDictionary[v.name] = v.varValue\n",
    "print(varsDictionary)"
   ]
  },
  {
   "cell_type": "code",
   "execution_count": 30,
   "metadata": {},
   "outputs": [
    {
     "name": "stdout",
     "output_type": "stream",
     "text": [
      "Total Cost of Foods per person =  4.337116797399999\n"
     ]
    }
   ],
   "source": [
    "print (\"Total Cost of Foods per person = \", value(problem.objective))"
   ]
  },
  {
   "cell_type": "markdown",
   "metadata": {},
   "source": [
    "2.\tPlease add to your model the following constraints (which might require adding more variables) and solve the new model:\n",
    "a.\tIf a food is selected, then a minimum of 1/10 serving must be chosen. (Hint: now you will need two variables for each food i: whether it is chosen, and how much is part of the diet. You’ll also need to write a constraint to link them.)\n",
    "b.\tMany people dislike celery and frozen broccoli. So at most one, but not both, can be selected.\n",
    "c.\tTo get day-to-day variety in protein, at least 3 kinds of meat/poultry/fish/eggs must be selected. [If something is ambiguous (e.g., should bean-and-bacon soup be considered meat?), just call it whatever you think is appropriate – I want you to learn how to write this type of constraint, but I don’t really care whether we agree on how to classify foods!]"
   ]
  },
  {
   "cell_type": "code",
   "execution_count": 31,
   "metadata": {
    "scrolled": true
   },
   "outputs": [],
   "source": [
    "#amountVars = LpVariable.dicts('Amount',item, 0)\n",
    "#a.Hint: now you will need two variables for each food i:\n",
    "#whether it is chosen,and how much is part of the diet. \n",
    "#You’ll also need to write a constraint to link them.) \n",
    "food_choice=LpVariable.dicts('foodchosen', item, 0,1,LpBinary) \n",
    "#define variable\n",
    "amountVars = LpVariable.dicts('Amount',item, 0)\n",
    "#Add  objective function to the problem\n",
    "problem_cons = LpProblem('MealPlan2', LpMinimize)\n",
    "#\n",
    "problem_cons += lpSum([cost[i] * amountVars[i] for i in item]), 'Total Cost'\n",
    "\n"
   ]
  },
  {
   "cell_type": "code",
   "execution_count": 32,
   "metadata": {
    "scrolled": true
   },
   "outputs": [
    {
     "data": {
      "text/plain": [
       "{'Frozen Broccoli': foodchosen_Frozen_Broccoli,\n",
       " 'Carrots,Raw': foodchosen_Carrots,Raw,\n",
       " 'Celery, Raw': foodchosen_Celery,_Raw,\n",
       " 'Frozen Corn': foodchosen_Frozen_Corn,\n",
       " 'Lettuce,Iceberg,Raw': foodchosen_Lettuce,Iceberg,Raw,\n",
       " 'Peppers, Sweet, Raw': foodchosen_Peppers,_Sweet,_Raw,\n",
       " 'Potatoes, Baked': foodchosen_Potatoes,_Baked,\n",
       " 'Tofu': foodchosen_Tofu,\n",
       " 'Roasted Chicken': foodchosen_Roasted_Chicken,\n",
       " 'Spaghetti W/ Sauce': foodchosen_Spaghetti_W__Sauce,\n",
       " 'Tomato,Red,Ripe,Raw': foodchosen_Tomato,Red,Ripe,Raw,\n",
       " 'Apple,Raw,W/Skin': foodchosen_Apple,Raw,W_Skin,\n",
       " 'Banana': foodchosen_Banana,\n",
       " 'Grapes': foodchosen_Grapes,\n",
       " 'Kiwifruit,Raw,Fresh': foodchosen_Kiwifruit,Raw,Fresh,\n",
       " 'Oranges': foodchosen_Oranges,\n",
       " 'Bagels': foodchosen_Bagels,\n",
       " 'Wheat Bread': foodchosen_Wheat_Bread,\n",
       " 'White Bread': foodchosen_White_Bread,\n",
       " 'Oatmeal Cookies': foodchosen_Oatmeal_Cookies,\n",
       " 'Apple Pie': foodchosen_Apple_Pie,\n",
       " 'Chocolate Chip Cookies': foodchosen_Chocolate_Chip_Cookies,\n",
       " 'Butter,Regular': foodchosen_Butter,Regular,\n",
       " 'Cheddar Cheese': foodchosen_Cheddar_Cheese,\n",
       " '3.3% Fat,Whole Milk': foodchosen_3.3%_Fat,Whole_Milk,\n",
       " '2% Lowfat Milk': foodchosen_2%_Lowfat_Milk,\n",
       " 'Skim Milk': foodchosen_Skim_Milk,\n",
       " 'Poached Eggs': foodchosen_Poached_Eggs,\n",
       " 'Scrambled Eggs': foodchosen_Scrambled_Eggs,\n",
       " 'Bologna,Turkey': foodchosen_Bologna,Turkey,\n",
       " 'Frankfurter, Beef': foodchosen_Frankfurter,_Beef,\n",
       " 'Ham,Sliced,Extralean': foodchosen_Ham,Sliced,Extralean,\n",
       " 'Kielbasa,Prk': foodchosen_Kielbasa,Prk,\n",
       " \"Cap'N Crunch\": foodchosen_Cap'N_Crunch,\n",
       " 'Cheerios': foodchosen_Cheerios,\n",
       " \"Corn Flks, Kellogg'S\": foodchosen_Corn_Flks,_Kellogg'S,\n",
       " \"Raisin Brn, Kellg'S\": foodchosen_Raisin_Brn,_Kellg'S,\n",
       " 'Rice Krispies': foodchosen_Rice_Krispies,\n",
       " 'Special K': foodchosen_Special_K,\n",
       " 'Oatmeal': foodchosen_Oatmeal,\n",
       " 'Malt-O-Meal,Choc': foodchosen_Malt_O_Meal,Choc,\n",
       " 'Pizza W/Pepperoni': foodchosen_Pizza_W_Pepperoni,\n",
       " 'Taco': foodchosen_Taco,\n",
       " 'Hamburger W/Toppings': foodchosen_Hamburger_W_Toppings,\n",
       " 'Hotdog, Plain': foodchosen_Hotdog,_Plain,\n",
       " 'Couscous': foodchosen_Couscous,\n",
       " 'White Rice': foodchosen_White_Rice,\n",
       " 'Macaroni,Ckd': foodchosen_Macaroni,Ckd,\n",
       " 'Peanut Butter': foodchosen_Peanut_Butter,\n",
       " 'Pork': foodchosen_Pork,\n",
       " 'Sardines in Oil': foodchosen_Sardines_in_Oil,\n",
       " 'White Tuna in Water': foodchosen_White_Tuna_in_Water,\n",
       " 'Popcorn,Air-Popped': foodchosen_Popcorn,Air_Popped,\n",
       " 'Potato Chips,Bbqflvr': foodchosen_Potato_Chips,Bbqflvr,\n",
       " 'Pretzels': foodchosen_Pretzels,\n",
       " 'Tortilla Chip': foodchosen_Tortilla_Chip,\n",
       " 'Chicknoodl Soup': foodchosen_Chicknoodl_Soup,\n",
       " 'Splt Pea&Hamsoup': foodchosen_Splt_Pea&Hamsoup,\n",
       " 'Vegetbeef Soup': foodchosen_Vegetbeef_Soup,\n",
       " 'Neweng Clamchwd': foodchosen_Neweng_Clamchwd,\n",
       " 'Tomato Soup': foodchosen_Tomato_Soup,\n",
       " 'New E Clamchwd,W/Mlk': foodchosen_New_E_Clamchwd,W_Mlk,\n",
       " 'Crm Mshrm Soup,W/Mlk': foodchosen_Crm_Mshrm_Soup,W_Mlk,\n",
       " 'Beanbacn Soup,W/Watr': foodchosen_Beanbacn_Soup,W_Watr}"
      ]
     },
     "execution_count": 32,
     "metadata": {},
     "output_type": "execute_result"
    }
   ],
   "source": [
    "food_choice"
   ]
  },
  {
   "cell_type": "code",
   "execution_count": 33,
   "metadata": {},
   "outputs": [],
   "source": [
    "# a. If a food is selected, then a minimum of 1/10 serving must be chosen\n",
    "for i in item:\n",
    "    problem_cons += amountVars[i]>= food_choice[i]*0.1\n",
    "\n",
    "for i in item:\n",
    "    problem_cons += food_choice[i]>= amountVars[i]*0.0000001"
   ]
  },
  {
   "cell_type": "code",
   "execution_count": 34,
   "metadata": {},
   "outputs": [],
   "source": [
    "#constraints hard code on each ones\n",
    "#calories\n",
    "problem_cons += lpSum([cal[i]* amountVars[i] for i in item])>=1500, 'min cal'\n",
    "problem_cons += lpSum([cal[i]* amountVars[i] for i in item])<=2500, 'max cal'\n",
    "#cholesterol\n",
    "problem_cons += lpSum([clt[i]* amountVars[i] for i in item])>=30, 'min cholesterol'\n",
    "problem_cons += lpSum([clt[i]* amountVars[i] for i in item])<=240, 'max cholesterol'\n",
    "\n",
    "#fat\n",
    "problem_cons += lpSum([ttf[i]* amountVars[i] for i in item])>=20, 'min fat'\n",
    "problem_cons += lpSum([ttf[i]* amountVars[i] for i in item])<=70, 'max fat'\n",
    "\n",
    "#sodium\n",
    "problem_cons += lpSum([sd[i]* amountVars[i] for i in item])>=800, 'min sodium'\n",
    "problem_cons += lpSum([sd[i]* amountVars[i] for i in item])<=2000, 'max sodium'\n",
    "#carb\n",
    "problem_cons += lpSum([carb[i]* amountVars[i] for i in item])>=130, 'min carb'\n",
    "problem_cons += lpSum([carb[i]* amountVars[i] for i in item])<=450, 'max carb'\n",
    "\n",
    "#fiber\n",
    "problem_cons += lpSum([fiber[i]* amountVars[i] for i in item])>=125, 'min fiber'\n",
    "problem_cons += lpSum([fiber[i]* amountVars[i] for i in item])<=250, 'max fiber'\n",
    "\n",
    "#protein\n",
    "problem_cons += lpSum([po[i]* amountVars[i] for i in item])>=60, 'min protein'\n",
    "problem_cons += lpSum([po[i]* amountVars[i] for i in item])<=100, 'max protein'\n",
    "\n",
    "#va\n",
    "problem_cons += lpSum([va[i]* amountVars[i] for i in item])>=1000, 'min vitaminA'\n",
    "problem_cons += lpSum([va[i]* amountVars[i] for i in item])<=10000, 'max vitaminA'\n",
    "\n",
    "#vc\n",
    "problem_cons += lpSum([vc[i]* amountVars[i] for i in item])>=400, 'min vitaminC'\n",
    "problem_cons += lpSum([vc[i]* amountVars[i] for i in item])<=5000, 'max vitaminC'\n",
    "\n",
    "#cci\n",
    "problem_cons += lpSum([cci[i]* amountVars[i] for i in item])>=700, 'min calcium'\n",
    "problem_cons += lpSum([cci[i]* amountVars[i] for i in item])<=1500, 'max calcium'\n",
    "\n",
    "#iron\n",
    "problem_cons += lpSum([iron[i]* amountVars[i] for i in item])>=10, 'min iron'\n",
    "problem_cons += lpSum([iron[i]* amountVars[i] for i in item])<=40, 'max iron'"
   ]
  },
  {
   "cell_type": "code",
   "execution_count": 35,
   "metadata": {},
   "outputs": [],
   "source": [
    "problem_cons += food_choice['Frozen Broccoli'] + food_choice['Celery, Raw'] <=1"
   ]
  },
  {
   "cell_type": "code",
   "execution_count": 36,
   "metadata": {
    "scrolled": true
   },
   "outputs": [],
   "source": [
    "problem_cons += food_choice['Roasted Chicken']+food_choice['Poached Eggs']+food_choice['Scrambled Eggs']\\\n",
    "                +food_choice['Bologna,Turkey']+food_choice['Frankfurter, Beef']+food_choice['Ham,Sliced,Extralean']\\\n",
    "                +food_choice['Kielbasa,Prk']+food_choice['Hamburger W/Toppings']+food_choice['Hotdog, Plain']\\\n",
    "                +food_choice['Macaroni,Ckd'] +food_choice['Pork']+food_choice['Sardines in Oil']\\\n",
    "                +food_choice['White Tuna in Water']+food_choice['Vegetbeef Soup'] >=3\n",
    "           \n"
   ]
  },
  {
   "cell_type": "code",
   "execution_count": 37,
   "metadata": {},
   "outputs": [
    {
     "data": {
      "text/plain": [
       "1"
      ]
     },
     "execution_count": 37,
     "metadata": {},
     "output_type": "execute_result"
    }
   ],
   "source": [
    "problem_cons.solve()"
   ]
  },
  {
   "cell_type": "code",
   "execution_count": 38,
   "metadata": {},
   "outputs": [
    {
     "name": "stdout",
     "output_type": "stream",
     "text": [
      "{'Amount_Bologna,Turkey': 0.1, 'Amount_Celery,_Raw': 42.423026, 'Amount_Lettuce,Iceberg,Raw': 82.673927, 'Amount_Oranges': 3.0856009, 'Amount_Peanut_Butter': 1.9590978, 'Amount_Poached_Eggs': 0.1, 'Amount_Popcorn,Air_Popped': 13.214473, 'Amount_Scrambled_Eggs': 0.1, 'foodchosen_Bologna,Turkey': 1.0, 'foodchosen_Celery,_Raw': 1.0, 'foodchosen_Lettuce,Iceberg,Raw': 1.0, 'foodchosen_Oranges': 1.0, 'foodchosen_Peanut_Butter': 1.0, 'foodchosen_Poached_Eggs': 1.0, 'foodchosen_Popcorn,Air_Popped': 1.0, 'foodchosen_Scrambled_Eggs': 1.0}\n"
     ]
    }
   ],
   "source": [
    "varsDictionary_cons = {}\n",
    "for v in problem_cons.variables():\n",
    "    if v.varValue >0.0:\n",
    "        \n",
    "        varsDictionary_cons[v.name] = v.varValue\n",
    "print(varsDictionary_cons)"
   ]
  },
  {
   "cell_type": "code",
   "execution_count": 39,
   "metadata": {},
   "outputs": [
    {
     "name": "stdout",
     "output_type": "stream",
     "text": [
      "Total cost of food = $4.51\n"
     ]
    }
   ],
   "source": [
    "print(\"Total cost of food = $%.2f\" % value(problem_cons.objective))"
   ]
  },
  {
   "cell_type": "code",
   "execution_count": null,
   "metadata": {},
   "outputs": [],
   "source": []
  }
 ],
 "metadata": {
  "kernelspec": {
   "display_name": "Python 3",
   "language": "python",
   "name": "python3"
  },
  "language_info": {
   "codemirror_mode": {
    "name": "ipython",
    "version": 3
   },
   "file_extension": ".py",
   "mimetype": "text/x-python",
   "name": "python",
   "nbconvert_exporter": "python",
   "pygments_lexer": "ipython3",
   "version": "3.7.1"
  }
 },
 "nbformat": 4,
 "nbformat_minor": 2
}
