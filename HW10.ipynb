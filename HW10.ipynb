{
 "cells": [
  {
   "cell_type": "markdown",
   "metadata": {},
   "source": [
    "Question 15.2\n",
    "\n",
    "In the videos, we saw the “diet problem”. (The diet problem is one of the first large-scale optimization\n",
    "problems to be studied in practice. Back in the 1930’s and 40’s, the Army wanted to meet the nutritional\n",
    "requirements of its soldiers while minimizing the cost.) In this homework you get to solve a diet problem with real data. The data is given in the file diet.xls. "
   ]
  },
  {
   "cell_type": "markdown",
   "metadata": {},
   "source": [
    "1.\tFormulate an optimization model (a linear program) to find the cheapest diet that satisfies the maximum and minimum daily nutrition constraints, and solve it using PuLP.  Turn in your code and the solution. (The optimal solution should be a diet of air-popped popcorn, poached eggs, oranges, raw iceberg lettuce, raw celery, and frozen broccoli. UGH!)"
   ]
  },
  {
   "cell_type": "code",
   "execution_count": 6,
   "metadata": {},
   "outputs": [
    {
     "name": "stdout",
     "output_type": "stream",
     "text": [
      "Collecting pulp\n",
      "  Downloading https://files.pythonhosted.org/packages/89/0c/6d80f5f81a92d1733cc5ca180491b8a3cd5839e335627a0046c81b7d3d3d/PuLP-2.3.1-py3-none-any.whl (40.6MB)\n",
      "Collecting amply>=0.1.2 (from pulp)\n",
      "  Downloading https://files.pythonhosted.org/packages/f3/c5/dfa09dd2595a2ab2ab4e6fa7bebef9565812722e1980d04b0edce5032066/amply-0.1.4-py3-none-any.whl\n",
      "Requirement already satisfied: docutils>=0.3 in c:\\users\\chaos\\anaconda3\\lib\\site-packages (from amply>=0.1.2->pulp) (0.14)\n",
      "Requirement already satisfied: pyparsing in c:\\users\\chaos\\anaconda3\\lib\\site-packages (from amply>=0.1.2->pulp) (2.3.0)\n",
      "Installing collected packages: amply, pulp\n",
      "Successfully installed amply-0.1.4 pulp-2.3.1\n"
     ]
    }
   ],
   "source": [
    "#! pip install pulp"
   ]
  },
  {
   "cell_type": "code",
   "execution_count": 7,
   "metadata": {
    "scrolled": true
   },
   "outputs": [],
   "source": [
    "from pulp import *"
   ]
  },
  {
   "cell_type": "code",
   "execution_count": 8,
   "metadata": {},
   "outputs": [],
   "source": [
    "import pandas as pd"
   ]
  },
  {
   "cell_type": "code",
   "execution_count": 15,
   "metadata": {},
   "outputs": [],
   "source": [
    "df = pd.read_csv('diet.csv')\n",
    "#df.head()\n",
    "df.tail()\n",
    "#Notice the last row of the data set was actually row 63.(WhicH we could also see that when open the excel when first download the data)\n",
    "#then to only extrac the data, only need until row 63.\n",
    "data=df[0:64]"
   ]
  },
  {
   "cell_type": "code",
   "execution_count": 16,
   "metadata": {},
   "outputs": [
    {
     "data": {
      "text/html": [
       "<div>\n",
       "<style scoped>\n",
       "    .dataframe tbody tr th:only-of-type {\n",
       "        vertical-align: middle;\n",
       "    }\n",
       "\n",
       "    .dataframe tbody tr th {\n",
       "        vertical-align: top;\n",
       "    }\n",
       "\n",
       "    .dataframe thead th {\n",
       "        text-align: right;\n",
       "    }\n",
       "</style>\n",
       "<table border=\"1\" class=\"dataframe\">\n",
       "  <thead>\n",
       "    <tr style=\"text-align: right;\">\n",
       "      <th></th>\n",
       "      <th>Calories</th>\n",
       "      <th>Cholesterol mg</th>\n",
       "      <th>Total_Fat g</th>\n",
       "      <th>Sodium mg</th>\n",
       "      <th>Carbohydrates g</th>\n",
       "      <th>Dietary_Fiber g</th>\n",
       "      <th>Protein g</th>\n",
       "      <th>Vit_A IU</th>\n",
       "      <th>Vit_C IU</th>\n",
       "      <th>Calcium mg</th>\n",
       "      <th>Iron mg</th>\n",
       "    </tr>\n",
       "  </thead>\n",
       "  <tbody>\n",
       "    <tr>\n",
       "      <th>count</th>\n",
       "      <td>64.000000</td>\n",
       "      <td>64.000000</td>\n",
       "      <td>64.000000</td>\n",
       "      <td>64.000000</td>\n",
       "      <td>64.000000</td>\n",
       "      <td>64.000000</td>\n",
       "      <td>64.000000</td>\n",
       "      <td>64.000000</td>\n",
       "      <td>64.000000</td>\n",
       "      <td>64.000000</td>\n",
       "      <td>64.000000</td>\n",
       "    </tr>\n",
       "    <tr>\n",
       "      <th>mean</th>\n",
       "      <td>134.384375</td>\n",
       "      <td>18.071875</td>\n",
       "      <td>5.185937</td>\n",
       "      <td>332.126563</td>\n",
       "      <td>16.437500</td>\n",
       "      <td>1.503125</td>\n",
       "      <td>6.071875</td>\n",
       "      <td>777.132812</td>\n",
       "      <td>11.498438</td>\n",
       "      <td>50.296875</td>\n",
       "      <td>1.587500</td>\n",
       "    </tr>\n",
       "    <tr>\n",
       "      <th>std</th>\n",
       "      <td>120.790475</td>\n",
       "      <td>42.114117</td>\n",
       "      <td>9.684530</td>\n",
       "      <td>491.718977</td>\n",
       "      <td>18.257971</td>\n",
       "      <td>2.216817</td>\n",
       "      <td>6.706771</td>\n",
       "      <td>2173.534758</td>\n",
       "      <td>28.957448</td>\n",
       "      <td>75.257796</td>\n",
       "      <td>2.477998</td>\n",
       "    </tr>\n",
       "    <tr>\n",
       "      <th>min</th>\n",
       "      <td>2.600000</td>\n",
       "      <td>0.000000</td>\n",
       "      <td>0.000000</td>\n",
       "      <td>0.000000</td>\n",
       "      <td>0.000000</td>\n",
       "      <td>0.000000</td>\n",
       "      <td>0.000000</td>\n",
       "      <td>0.000000</td>\n",
       "      <td>0.000000</td>\n",
       "      <td>0.900000</td>\n",
       "      <td>0.000000</td>\n",
       "    </tr>\n",
       "    <tr>\n",
       "      <th>25%</th>\n",
       "      <td>73.400000</td>\n",
       "      <td>0.000000</td>\n",
       "      <td>0.500000</td>\n",
       "      <td>16.175000</td>\n",
       "      <td>4.625000</td>\n",
       "      <td>0.000000</td>\n",
       "      <td>1.975000</td>\n",
       "      <td>11.750000</td>\n",
       "      <td>0.000000</td>\n",
       "      <td>6.775000</td>\n",
       "      <td>0.300000</td>\n",
       "    </tr>\n",
       "    <tr>\n",
       "      <th>50%</th>\n",
       "      <td>109.400000</td>\n",
       "      <td>0.000000</td>\n",
       "      <td>2.650000</td>\n",
       "      <td>137.250000</td>\n",
       "      <td>15.050000</td>\n",
       "      <td>0.700000</td>\n",
       "      <td>4.050000</td>\n",
       "      <td>95.450000</td>\n",
       "      <td>1.550000</td>\n",
       "      <td>20.400000</td>\n",
       "      <td>0.700000</td>\n",
       "    </tr>\n",
       "    <tr>\n",
       "      <th>75%</th>\n",
       "      <td>159.500000</td>\n",
       "      <td>17.625000</td>\n",
       "      <td>6.700000</td>\n",
       "      <td>335.100000</td>\n",
       "      <td>22.150000</td>\n",
       "      <td>1.850000</td>\n",
       "      <td>8.025000</td>\n",
       "      <td>499.900000</td>\n",
       "      <td>7.525000</td>\n",
       "      <td>51.650000</td>\n",
       "      <td>2.025000</td>\n",
       "    </tr>\n",
       "    <tr>\n",
       "      <th>max</th>\n",
       "      <td>710.800000</td>\n",
       "      <td>211.500000</td>\n",
       "      <td>72.200000</td>\n",
       "      <td>1915.100000</td>\n",
       "      <td>128.200000</td>\n",
       "      <td>11.600000</td>\n",
       "      <td>42.200000</td>\n",
       "      <td>15471.000000</td>\n",
       "      <td>160.200000</td>\n",
       "      <td>302.300000</td>\n",
       "      <td>16.800000</td>\n",
       "    </tr>\n",
       "  </tbody>\n",
       "</table>\n",
       "</div>"
      ],
      "text/plain": [
       "         Calories  Cholesterol mg  Total_Fat g    Sodium mg  Carbohydrates g  \\\n",
       "count   64.000000       64.000000    64.000000    64.000000        64.000000   \n",
       "mean   134.384375       18.071875     5.185937   332.126563        16.437500   \n",
       "std    120.790475       42.114117     9.684530   491.718977        18.257971   \n",
       "min      2.600000        0.000000     0.000000     0.000000         0.000000   \n",
       "25%     73.400000        0.000000     0.500000    16.175000         4.625000   \n",
       "50%    109.400000        0.000000     2.650000   137.250000        15.050000   \n",
       "75%    159.500000       17.625000     6.700000   335.100000        22.150000   \n",
       "max    710.800000      211.500000    72.200000  1915.100000       128.200000   \n",
       "\n",
       "       Dietary_Fiber g  Protein g      Vit_A IU    Vit_C IU  Calcium mg  \\\n",
       "count        64.000000  64.000000     64.000000   64.000000   64.000000   \n",
       "mean          1.503125   6.071875    777.132812   11.498438   50.296875   \n",
       "std           2.216817   6.706771   2173.534758   28.957448   75.257796   \n",
       "min           0.000000   0.000000      0.000000    0.000000    0.900000   \n",
       "25%           0.000000   1.975000     11.750000    0.000000    6.775000   \n",
       "50%           0.700000   4.050000     95.450000    1.550000   20.400000   \n",
       "75%           1.850000   8.025000    499.900000    7.525000   51.650000   \n",
       "max          11.600000  42.200000  15471.000000  160.200000  302.300000   \n",
       "\n",
       "         Iron mg  \n",
       "count  64.000000  \n",
       "mean    1.587500  \n",
       "std     2.477998  \n",
       "min     0.000000  \n",
       "25%     0.300000  \n",
       "50%     0.700000  \n",
       "75%     2.025000  \n",
       "max    16.800000  "
      ]
     },
     "execution_count": 16,
     "metadata": {},
     "output_type": "execute_result"
    }
   ],
   "source": [
    "data.describe()"
   ]
  },
  {
   "cell_type": "code",
   "execution_count": null,
   "metadata": {},
   "outputs": [],
   "source": []
  }
 ],
 "metadata": {
  "kernelspec": {
   "display_name": "Python 3",
   "language": "python",
   "name": "python3"
  },
  "language_info": {
   "codemirror_mode": {
    "name": "ipython",
    "version": 3
   },
   "file_extension": ".py",
   "mimetype": "text/x-python",
   "name": "python",
   "nbconvert_exporter": "python",
   "pygments_lexer": "ipython3",
   "version": "3.7.1"
  }
 },
 "nbformat": 4,
 "nbformat_minor": 2
}
